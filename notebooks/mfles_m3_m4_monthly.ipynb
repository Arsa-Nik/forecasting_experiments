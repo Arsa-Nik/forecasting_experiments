{
 "cells": [
  {
   "cell_type": "code",
   "execution_count": 1,
   "id": "57ffb0cf-ef64-4ee0-ba39-fa58de3a37f0",
   "metadata": {
    "tags": []
   },
   "outputs": [],
   "source": [
    "import numpy as np\n",
    "import pandas as pd\n",
    "from datasetsforecast.m4 import M4, M4Info\n",
    "from datasetsforecast.m3 import M3, M3Info\n",
    "from coreforecast.scalers import boxcox, boxcox_lambda, inv_boxcox\n",
    "\n",
    "from statsforecast import StatsForecast\n",
    "from statsforecast.models import (\n",
    "    AutoMFLES,\n",
    ")"
   ]
  },
  {
   "cell_type": "code",
   "execution_count": 2,
   "id": "768874bd-cd39-4251-afd9-8801070a611a",
   "metadata": {
    "tags": []
   },
   "outputs": [],
   "source": [
    "pd.set_option('display.max_rows', 500)\n",
    "pd.set_option('display.max_columns', 500)\n",
    "pd.set_option('display.width', 1000)"
   ]
  },
  {
   "cell_type": "code",
   "execution_count": 3,
   "id": "5011c470-7ef0-4607-becf-6a761d7db71e",
   "metadata": {
    "tags": []
   },
   "outputs": [],
   "source": [
    "group = 'Monthly'  \n",
    "\n",
    "# for M4\n",
    "df, *_ = M4.load(\"data\", group)\n",
    "df['ds'] = df['ds'].astype('int64')\n",
    "info = M4Info[group]\n",
    "\n",
    "\n",
    "# for M3\n",
    "# df, *_ = M3.load(\"data\", group)\n",
    "# df['ds'] = df.groupby('unique_id').cumcount() + 1\n",
    "# info = M3Info[group]\n",
    "\n",
    "\n",
    "h = info.horizon\n",
    "test = df.groupby(\"unique_id\").tail(h)\n",
    "train = df.drop(test.index)"
   ]
  },
  {
   "cell_type": "code",
   "execution_count": 4,
   "id": "18e94b02-20f9-427c-82b6-eae788b213ed",
   "metadata": {
    "tags": []
   },
   "outputs": [],
   "source": [
    "horizon = 18\n",
    "config = {\n",
    "    'seasonality_weights': [True, False],\n",
    "    'smoother': [True, False],\n",
    "    'ma': [12, 6, 3, None],\n",
    "    'seasonal_period': [None, 12],\n",
    "    }\n",
    "\n",
    "model_1 = AutoMFLES(season_length=12, test_size=12, n_windows=2, metric='smape', config=config, alias='model_1')\n",
    "model_2 = AutoMFLES(season_length=12, test_size=8, n_windows=3, metric='smape', config=config, alias='model_2')\n",
    "model_3 = AutoMFLES(season_length=12, test_size=6, n_windows=4, metric='smape', config=config, alias='model_3')\n",
    "model_4 = AutoMFLES(season_length=12, test_size=4, n_windows=6, metric='smape', config=config, alias='model_4')\n",
    "model_5 = AutoMFLES(season_length=12, test_size=3, n_windows=8, metric='smape', config=config, alias='model_5')\n",
    "model_6 = AutoMFLES(season_length=12, test_size=2, n_windows=12, metric='smape', config=config, alias='model_6')\n",
    "\n",
    "sf = StatsForecast(models=[model_1, model_2, model_3, model_4, model_5, model_6], freq=1, n_jobs=-1, verbose=True)"
   ]
  },
  {
   "cell_type": "code",
   "execution_count": null,
   "id": "ec258a30-badc-4080-be88-58cfe6519dc9",
   "metadata": {
    "tags": []
   },
   "outputs": [
    {
     "name": "stderr",
     "output_type": "stream",
     "text": [
      "/opt/conda/envs/llm_env/lib/python3.10/site-packages/statsforecast/core.py:494: FutureWarning: In a future version the predictions will have the id as a column. You can set the `NIXTLA_ID_AS_COL` environment variable to adopt the new behavior and to suppress this warning.\n",
      "  warnings.warn(\n"
     ]
    }
   ],
   "source": [
    "sf.fit(df = train)\n",
    "\n",
    "# Generate test predictions\n",
    "yhat_test = sf.predict(h=horizon)\n",
    "yhat_test = yhat_test.reset_index()"
   ]
  },
  {
   "cell_type": "code",
   "execution_count": 9,
   "id": "e3959774-0739-4d42-a20e-3f761a155ef5",
   "metadata": {
    "tags": []
   },
   "outputs": [],
   "source": [
    "dz = yhat_test.merge(test, on=['unique_id', 'ds'])"
   ]
  },
  {
   "cell_type": "code",
   "execution_count": 10,
   "id": "eba2c37d-139c-4cec-8fed-fc4f8b03519f",
   "metadata": {
    "tags": []
   },
   "outputs": [
    {
     "name": "stdout",
     "output_type": "stream",
     "text": [
      "SMAPE values for each model and ensemble:\n",
      "SMAPE for model_1: 12.92\n",
      "SMAPE for model_2: 12.85\n",
      "SMAPE for model_3: 12.72\n",
      "SMAPE for model_4: 12.69\n",
      "SMAPE for model_5: 12.70\n",
      "SMAPE for model_6: 12.74\n",
      "SMAPE for ensemble: 12.56\n"
     ]
    }
   ],
   "source": [
    "model_cols = ['model_1', 'model_2', 'model_3', 'model_4', 'model_5', 'model_6']\n",
    "dz['ensemble'] = dz[model_cols].mean(axis=1)\n",
    "\n",
    "# SMAPE function\n",
    "def smape(y_true, y_pred):\n",
    "    y_true = np.array(y_true)\n",
    "    y_pred = np.array(y_pred)\n",
    "    numerator = np.abs(y_pred - y_true)\n",
    "    denominator = (np.abs(y_true) + np.abs(y_pred)) / 2\n",
    "    return np.mean(numerator / denominator) * 100\n",
    "\n",
    "smape_values = {}\n",
    "for col in model_cols:\n",
    "    smape_val = smape(dz['y'], dz[col])\n",
    "    smape_values[col] = smape_val\n",
    "\n",
    "smape_ensemble = smape(dz['y'], dz['ensemble'])\n",
    "smape_values['ensemble'] = smape_ensemble\n",
    "\n",
    "print(\"SMAPE values for each model and ensemble:\")\n",
    "for model, value in smape_values.items():\n",
    "    print(f\"SMAPE for {model}: {value:.2f}\")"
   ]
  },
  {
   "cell_type": "code",
   "execution_count": null,
   "id": "25c21fa9-1faf-4499-83ee-d7700fbf730f",
   "metadata": {},
   "outputs": [],
   "source": []
  }
 ],
 "metadata": {
  "environment": {
   "kernel": "llm_env",
   "name": "workbench-notebooks.m124",
   "type": "gcloud",
   "uri": "us-docker.pkg.dev/deeplearning-platform-release/gcr.io/workbench-notebooks:m124"
  },
  "kernelspec": {
   "display_name": "Python 3.10.14 (llm_env) (Local)",
   "language": "python",
   "name": "llm_env"
  },
  "language_info": {
   "codemirror_mode": {
    "name": "ipython",
    "version": 3
   },
   "file_extension": ".py",
   "mimetype": "text/x-python",
   "name": "python",
   "nbconvert_exporter": "python",
   "pygments_lexer": "ipython3",
   "version": "3.10.14"
  }
 },
 "nbformat": 4,
 "nbformat_minor": 5
}
